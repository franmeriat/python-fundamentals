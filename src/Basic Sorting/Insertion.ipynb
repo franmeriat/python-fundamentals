{
 "cells": [
  {
   "cell_type": "markdown",
   "metadata": {},
   "source": [
    "# Insertion\n",
    "\n",
    "Simple implementation of the insertion sort algorithm in Python\n",
    "\n",
    ":param array: some mutable ordered array with heterogeneous comparable items inside \n",
    ":return: the same array ordered by ascending\n",
    "    \n",
    "```\n",
    "Examples:\n",
    ">>> insertion_sort([0, 5, 3, 2, 2])\n",
    "[0, 2, 2, 3, 5]\n",
    "\n",
    ">>> insertion_sort([])\n",
    "[]\n",
    "\n",
    ">>> insertion_sort([-2, -5, -45])\n",
    "[-45, -5, -2]\n",
    "```"
   ]
  },
  {
   "cell_type": "code",
   "execution_count": 2,
   "metadata": {
    "collapsed": true
   },
   "outputs": [],
   "source": [
    "from __future__ import print_function\n",
    "\n",
    "def swap(array, i, j):\n",
    "    tmp = array[i]\n",
    "    array[i] = array[j]\n",
    "    array[j] = tmp"
   ]
  },
  {
   "cell_type": "code",
   "execution_count": 3,
   "metadata": {
    "collapsed": true
   },
   "outputs": [],
   "source": [
    "def insertion_sort(array):   \n",
    "    for i in range(0, len(array)):\n",
    "        j = i\n",
    "        while j > 0 and array[j-1] > array[j]:\n",
    "            swap(array, j-1, j)\n",
    "            j -= 1\n",
    "    return array"
   ]
  },
  {
   "cell_type": "code",
   "execution_count": 4,
   "metadata": {},
   "outputs": [
    {
     "name": "stdout",
     "output_type": "stream",
     "text": [
      "Insertion Sort\n",
      "============================================\n",
      "\n",
      "Enter numbers separated by a comma:\n",
      "1,6,3,8\n",
      "[1, 3, 6, 8]\n"
     ]
    }
   ],
   "source": [
    "if __name__ == \"__main__\":\n",
    "    import sys    \n",
    "    print(\"Insertion Sort\\n============================================\\n\")\n",
    "    \n",
    "    if sys.version_info.major < 3:\n",
    "        input_function = raw_input\n",
    "    else:\n",
    "        input_function = input\n",
    "\n",
    "    user_input = input_function('Enter numbers separated by a comma:\\n')\n",
    "    unsorted = [int(item) for item in user_input.split(',')]\n",
    "    print(insertion_sort(unsorted))"
   ]
  },
  {
   "cell_type": "code",
   "execution_count": null,
   "metadata": {
    "collapsed": true
   },
   "outputs": [],
   "source": []
  }
 ],
 "metadata": {
  "kernelspec": {
   "display_name": "Python 3",
   "language": "python",
   "name": "python3"
  },
  "language_info": {
   "codemirror_mode": {
    "name": "ipython",
    "version": 3
   },
   "file_extension": ".py",
   "mimetype": "text/x-python",
   "name": "python",
   "nbconvert_exporter": "python",
   "pygments_lexer": "ipython3",
   "version": "3.5.2"
  }
 },
 "nbformat": 4,
 "nbformat_minor": 2
}
