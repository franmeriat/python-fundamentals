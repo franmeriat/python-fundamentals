{
 "cells": [
  {
   "cell_type": "markdown",
   "metadata": {},
   "source": [
    "# Heap\n",
    "\n",
    "Simple implementation of the heap sort algorithm in Python\n",
    "* param array: some mutable ordered array with heterogeneous comparable items inside\n",
    "* return: the same array ordered by ascending\n",
    "\n",
    "### Examples:\n",
    "heap_sort([0, 5, 3, 2, 2])\n",
    "[0, 2, 2, 3, 5]\n",
    "\n",
    "heap_sort([])\n",
    "[]\n",
    "\n",
    "heap_sort([-2, -5, -45])\n",
    "[-45, -5, -2]"
   ]
  },
  {
   "cell_type": "code",
   "execution_count": 3,
   "metadata": {
    "collapsed": true
   },
   "outputs": [],
   "source": [
    "from __future__ import print_function\n",
    "\n",
    "def heapify(unsorted, index, heap_size):\n",
    "    largest = index\n",
    "    left_index = 2 * index + 1\n",
    "    right_index = 2 * index + 2\n",
    "    if left_index < heap_size and unsorted[left_index] > unsorted[largest]:\n",
    "        largest = left_index\n",
    "\n",
    "    if right_index < heap_size and unsorted[right_index] > unsorted[largest]:\n",
    "        largest = right_index\n",
    "\n",
    "    if largest != index:\n",
    "        unsorted[largest], unsorted[index] = unsorted[index], unsorted[largest]\n",
    "        heapify(unsorted, largest, heap_size)"
   ]
  },
  {
   "cell_type": "code",
   "execution_count": 4,
   "metadata": {
    "collapsed": true
   },
   "outputs": [],
   "source": [
    "def heap_sort(array):\n",
    "    n = len(array)\n",
    "    for i in range(n // 2 - 1, -1, -1):\n",
    "        heapify(array, i, n)\n",
    "    for i in range(n - 1, 0, -1):\n",
    "        array[0], array[i] = array[i], array[0]\n",
    "        heapify(array, 0, i)\n",
    "    return array"
   ]
  },
  {
   "cell_type": "code",
   "execution_count": 5,
   "metadata": {},
   "outputs": [
    {
     "name": "stdout",
     "output_type": "stream",
     "text": [
      "\n",
      "Heap Sort\n",
      "========================================\n",
      "\n",
      "Enter numbers separated by a comma:\n",
      "98,2,65,154\n",
      "[2, 65, 98, 154]\n"
     ]
    }
   ],
   "source": [
    "if __name__ == '__main__':\n",
    "    import sys\n",
    "    print(\"\\nHeap Sort\\n\" + \"=\"*40 +\"\\n\")\n",
    "\n",
    "    if sys.version_info.major < 3:\n",
    "        input_function = raw_input\n",
    "    else:\n",
    "        input_function = input\n",
    "\n",
    "    user_input = input_function('Enter numbers separated by a comma:\\n')\n",
    "    unsorted = [int(item) for item in user_input.split(',')]\n",
    "    print(heap_sort(unsorted))"
   ]
  },
  {
   "cell_type": "code",
   "execution_count": null,
   "metadata": {
    "collapsed": true
   },
   "outputs": [],
   "source": []
  }
 ],
 "metadata": {
  "kernelspec": {
   "display_name": "Python 3",
   "language": "python",
   "name": "python3"
  },
  "language_info": {
   "codemirror_mode": {
    "name": "ipython",
    "version": 3
   },
   "file_extension": ".py",
   "mimetype": "text/x-python",
   "name": "python",
   "nbconvert_exporter": "python",
   "pygments_lexer": "ipython3",
   "version": "3.6.2"
  }
 },
 "nbformat": 4,
 "nbformat_minor": 2
}
