{
 "cells": [
  {
   "cell_type": "markdown",
   "metadata": {},
   "source": [
    "Simple implementation of bubble sort algorithm in Python\n",
    "\n",
    "* param array: some mutable ordered array with heterogeneous comparable items inside\n",
    "* return: the same array ordered by ascending\n",
    "\n",
    "### Examples:\n",
    "\n",
    "bubble_sort([0, 5, 3, 2, 2])\n",
    "[0, 2, 2, 3, 5]\n",
    "\n",
    "bubble_sort([])\n",
    "[]\n",
    "\n",
    "bubble_sort([-2, -5, -45])\n",
    "[-45, -5, -2]\n"
   ]
  },
  {
   "cell_type": "code",
   "execution_count": 3,
   "metadata": {
    "collapsed": true
   },
   "outputs": [],
   "source": [
    "from __future__ import print_function\n",
    "\n",
    "def bubble_sort(array):\n",
    "    length = len(array)\n",
    "    for i in range(length-1, -1, -1):\n",
    "        for j in range(i):\n",
    "            if array[j] > array[j+1]:\n",
    "                array[j], array[j+1] = array[j+1], array[j]\n",
    "    return array\n"
   ]
  },
  {
   "cell_type": "code",
   "execution_count": 8,
   "metadata": {},
   "outputs": [
    {
     "name": "stdout",
     "output_type": "stream",
     "text": [
      "\n",
      "Bubble Sort\n",
      "========================================\n",
      "\n",
      "Enter numbers separated by a comma:\n",
      "\n",
      "12,6,2,89,45,74,23,1\n",
      "[1, 2, 6, 12, 23, 45, 74, 89]\n"
     ]
    }
   ],
   "source": [
    "if __name__ == '__main__':\n",
    "    import sys\n",
    "    print(\"\\nBubble Sort\\n\" + \"=\"*40 +\"\\n\")\n",
    "    \n",
    "    if sys.version_info.major < 3:\n",
    "        input_function = raw_input\n",
    "    else:\n",
    "        input_function = input\n",
    "\n",
    "    user_input = input_function('Enter numbers separated by a comma:\\n\\n')\n",
    "    unsorted = [int(item) for item in user_input.split(',')]\n",
    "    print(bubble_sort(unsorted))"
   ]
  },
  {
   "cell_type": "code",
   "execution_count": null,
   "metadata": {
    "collapsed": true
   },
   "outputs": [],
   "source": []
  }
 ],
 "metadata": {
  "kernelspec": {
   "display_name": "Python 3",
   "language": "python",
   "name": "python3"
  },
  "language_info": {
   "codemirror_mode": {
    "name": "ipython",
    "version": 3
   },
   "file_extension": ".py",
   "mimetype": "text/x-python",
   "name": "python",
   "nbconvert_exporter": "python",
   "pygments_lexer": "ipython3",
   "version": "3.5.2"
  }
 },
 "nbformat": 4,
 "nbformat_minor": 2
}
